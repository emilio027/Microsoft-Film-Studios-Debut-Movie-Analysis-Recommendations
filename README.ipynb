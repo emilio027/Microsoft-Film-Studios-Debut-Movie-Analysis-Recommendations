{
 "cells": [
  {
   "cell_type": "markdown",
   "metadata": {},
   "source": [
    "# Microsoft Film Studios Debut - Movie Analysis & Recommendations \n",
    "This project conducts a quantitative analysis of the most profitable films in the past century, focusing on return on investment with a major studio budget (15M USD+). Results reflect films' budgets accounted for inflation from their initial release date, the expectations for Microsoft's ROI, and the calculated budget needed to launch an initial blockbuster. \n",
    "\n",
    "We will be working with data from the following sources:\n",
    "1. IMDb - Title Basics \n",
    "2. tn (The Numbers) - Movie Budgets\n",
    "\n",
    "The CSV files used for the analysis can be found in the ```zipped_data``` folder.\n",
    "\n",
    "The analysis revealed three business recommendations/findings Microsoft could implement and expect with the debut of MS Studios and are listed below:\n",
    "\n",
    "1. The movie genre should be one of the following:\n",
    "    1. Drama\n",
    "    2. Adventrue\n",
    "    3. Comedy \n",
    "    4. Action\n",
    "2. The movie will cost around the following:\n",
    "    1. Drama - 26M USD\n",
    "    2. Adventrue - 83M USD\n",
    "    3. Comedy - 32M USD\n",
    "    4. Action - 39M USD\n",
    "3. The expected return on investment:\n",
    "    1. Drama - 14.7x\n",
    "    2. Adventrue - 14.2x\n",
    "    3. Comedy - 15.6x\n",
    "    4. Action - 13.5x\n",
    "    \n",
    "The analysis was performed using python and the code and be found in ```Main Notebook.ipynb```"
   ]
  },
  {
   "cell_type": "markdown",
   "metadata": {},
   "source": [
    "# Business Problem\n",
    "Analyzing the economic data from movies of the last century and adjusting all monetary figures to account for inflation is how we give Microsoft realistic expectations of the amount of money needed to make a blockbuster hit and how much money they could expect in return.  \n",
    "\n",
    "We will be looking at the most profitable genre of movies, expected budgetary needs, and expected ROI.\n",
    "\n",
    "As mentioned, the analysis was narrowed to films with a 15M USD+ budget. A rare number of movies with lower budgets (cult classics) reflect higher ROIs; however, these movies have less box office sales and thus are misleading and should be treated as outliers."
   ]
  },
  {
   "cell_type": "markdown",
   "metadata": {},
   "source": [
    "# Data\n",
    "\n",
    "The data used in this analysis was provided by Flatiron School and came from IMDb (Internet Movie Data Base) & tn (The Numbers). The following libraries were leveraged to perform the analysis ```Glob, Plotly, Pandas, NumPy, matplotlib, Seaborn & CPI```.\n",
    "\n",
    "Initial analysis was performed on the 'movie_budgets.csv'  file to assess the financials of all the movies for the previous 100 years. After that, all monetary values were adjusted for inflation to understand better the financial commitment needed to produce a debut blockbuster film.\n",
    "\n",
    "The data was then sorted by return on investment and modified to reflect only movies with budgets over 15 million USD. This was done to show the top 100 most profitable movies, except for low-budget films, as cult classics are usually outliers in the indie film industry, and their return on investment is disproportionate to other films.\n",
    "Data from title_basics.csv was then used to assign a genre to each of the top movies. \n",
    "\n",
    "Once the data frames reflected the genre data, we examined the frequency of each genre and complied a list of the top four most popular genres from the most profitable studio-budget films.\n",
    "\n",
    "Lastly, we examined each genre individually to acquire a mean for the project's budget & expected ROI."
   ]
  },
  {
   "cell_type": "markdown",
   "metadata": {},
   "source": [
    "# Results\n",
    "\n",
    "## The most popular genres are Drama, Comedy, Adventure & Action\n",
    "\n",
    "\n",
    "<div>\n",
    "<img src=\"genres.png\" width=\"750\"/>\n",
    "</div>"
   ]
  },
  {
   "cell_type": "markdown",
   "metadata": {},
   "source": [
    "The plot shows us the 4 most popular movie genre for the most profitable studio-budget movies of the past century \n",
    "\n",
    "**We recommend Microsoft target one of these four genres in their upcoming film debut**"
   ]
  },
  {
   "cell_type": "markdown",
   "metadata": {},
   "source": [
    "We also analyzed the what the expeected budgetary needs Microsoft will have to finance their studio film debut\n",
    "\n",
    "\n",
    "**We recommend Microsoft go with the most popular genre which also happens to be the most economical: Drama**"
   ]
  },
  {
   "cell_type": "markdown",
   "metadata": {},
   "source": [
    "<div>\n",
    "<img src=\"budget2.png\" width=\"1000\"/>\n",
    "</div>"
   ]
  },
  {
   "cell_type": "markdown",
   "metadata": {},
   "source": [
    "Lastly, we analyzed the ROI metrics for each genre, as the plot shows below.\n",
    "\n",
    "\n",
    "**Per analysis we can recommend Microsoft's financial officer can expect an ROI of: 14.76x**"
   ]
  },
  {
   "cell_type": "markdown",
   "metadata": {},
   "source": [
    "<div>\n",
    "<img src=\"roi.png\" width=\"1000\"/>\n",
    "</div>"
   ]
  }
 ],
 "metadata": {
  "kernelspec": {
   "display_name": "Python 3",
   "language": "python",
   "name": "python3"
  },
  "language_info": {
   "codemirror_mode": {
    "name": "ipython",
    "version": 3
   },
   "file_extension": ".py",
   "mimetype": "text/x-python",
   "name": "python",
   "nbconvert_exporter": "python",
   "pygments_lexer": "ipython3",
   "version": "3.8.5"
  }
 },
 "nbformat": 4,
 "nbformat_minor": 4
}
