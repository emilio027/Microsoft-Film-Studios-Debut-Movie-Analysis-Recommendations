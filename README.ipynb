{
 "cells": [
  {
   "cell_type": "markdown",
   "metadata": {},
   "source": [
    "# Microsoft Film Studios Debut - Movie Analysis & Recommendations \n",
    "The aim of this repository is to perform a quantitative analysis of the the top movies in the past century in relation to return on inverstment with major studio budget, over fifteen million USD after accounting for infaltion from their initial release date, the expectations for Microsoft's ROI and the total budgetary figure it would take to launch a successfull initial blockbuster \n",
    "\n",
    "We will be working with data from the following sources:\n",
    "1. IMdB - Title Basics \n",
    "2. tn (The Numbers) - Movie Budgets\n",
    "\n",
    "The CSV files used for the analysis can be found in the ```zipped_data``` folder.\n",
    "\n",
    "The analysis revealed three business recommendations/findings Microsoft could implement and expect with the debut of MS Studios and are listed below:\n",
    "\n",
    "1. The movie genre should be one of the following:\n",
    "    1. Drama\n",
    "    2. Adventrue\n",
    "    3. Comedy \n",
    "    4. Action\n",
    "2. The movie will cost around the following:\n",
    "    1. Drama - 26M USD\n",
    "    2. Adventrue - 83M USD\n",
    "    3. Comedy - 32M USD\n",
    "    4. Action - 39M USD\n",
    "3. The expected return on investment:\n",
    "    1. Drama - 14.7x\n",
    "    2. Adventrue - 14.2x\n",
    "    3. Comedy - 15.6x\n",
    "    4. Action - 13.5x\n",
    "    \n",
    "The analysis was performed using python and the code and be found in ```Main Notebook.ipynb```"
   ]
  },
  {
   "cell_type": "markdown",
   "metadata": {},
   "source": [
    "# Business Problem\n",
    "Analyzing the monetary data from movies of the last century and adjusting all monetary figures to account for inflation is how we give Microsoft a realistic expecations of the amount of money needed to make a blockbuster hit and how much money they could expect in return. We will be looking at what genre movies is the most profitable, how much Microsoft should expect the movie to cost and how much they can expect to make back. \n",
    "\n",
    "We also selected movies with budgets over fifteen million dollars as movies with lower budgets do reflect higher ROIs, however these movies have less box office sales and thus are misleading and should be trated as outliers. "
   ]
  },
  {
   "cell_type": "markdown",
   "metadata": {},
   "source": [
    "# Data\n",
    "\n",
    "The data used in this analysis was provided by Flatiron School and came from IMdB (Internet Movie Data Base) & tn (The Numbers) websites. The following libraries were leverage to perfrom the analysis ```glob, plotly, pandas, numpy, matplotlib, seaborn & cpi```.\n",
    "\n",
    "We first analyzed the movie_budgets.csv file to acquire an understanding of the financials of all the movies for the last 100 years. After that, all monetary values were adjusted for inflation to get a better understanding of the real financial commiment Microsoft will have to take if they are to produce a blockbuster debut film. \n",
    "\n",
    "The data was then sorted by return on investment and modified to relefect only movies with budgets over 15 million USD. This was done to show the top 100 most profitable movies with the exception of low-budget films as cult classics are usually outliers in the indie film industry and their return on investment is disproportionate to other films. \n",
    "\n",
    "Data from title_basics.csv was then used to asign a genre to each of the top movies. Once the dataframes refelcted the genre data we examined the frequency of the each genre and complied a list of the top four most popular genres from the most profitable studio-budget films of the last one hundred years. \n",
    "\n",
    "Lastly the we examined each genre individually to acquire a mean for the total movie budgets and the expected return on investment. "
   ]
  },
  {
   "cell_type": "markdown",
   "metadata": {},
   "source": [
    "# Results\n",
    "\n",
    "## The most popular genres are Drama, Comedy, Adventure & Action\n",
    "\n",
    "\n",
    "<div>\n",
    "<img src=\"genres.png\" width=\"750\"/>\n",
    "</div>"
   ]
  },
  {
   "cell_type": "markdown",
   "metadata": {},
   "source": [
    "The plot shows us the 4 most popular movie genre for the most profitable studio-budget movies of the past century \n",
    "\n",
    "**We recommend Microsoft target one of these four genres in their upcoming film debut**"
   ]
  },
  {
   "cell_type": "markdown",
   "metadata": {},
   "source": [
    "We also analyzed the what the expeected budgetary needs Microsoft will have to finance their studio film debut\n",
    "\n",
    "\n",
    "**We recommend Microsoft go with the most popular genre which also happens to be the most economical: Drama**"
   ]
  },
  {
   "cell_type": "markdown",
   "metadata": {},
   "source": [
    "<div>\n",
    "<img src=\"budget2.png\" width=\"1000\"/>\n",
    "</div>"
   ]
  },
  {
   "cell_type": "markdown",
   "metadata": {},
   "source": [
    "Lastly we analyzed the ROI metric for each of the genres as the plot shows below\n",
    "\n",
    "\n",
    "**Per analysis we can recommend Microsoft's financial officer can expect an ROI of: 14.76x**"
   ]
  },
  {
   "cell_type": "markdown",
   "metadata": {},
   "source": [
    "<div>\n",
    "<img src=\"roi.png\" width=\"1000\"/>\n",
    "</div>"
   ]
  },
  {
   "cell_type": "markdown",
   "metadata": {},
   "source": [
    "# Command to convert jupyter notebook to markdown file\n",
    "jupyter nbconvert --to markdown README.ipynb"
   ]
  }
 ],
 "metadata": {
  "kernelspec": {
   "display_name": "Python 3",
   "language": "python",
   "name": "python3"
  },
  "language_info": {
   "codemirror_mode": {
    "name": "ipython",
    "version": 3
   },
   "file_extension": ".py",
   "mimetype": "text/x-python",
   "name": "python",
   "nbconvert_exporter": "python",
   "pygments_lexer": "ipython3",
   "version": "3.8.5"
  }
 },
 "nbformat": 4,
 "nbformat_minor": 4
}
